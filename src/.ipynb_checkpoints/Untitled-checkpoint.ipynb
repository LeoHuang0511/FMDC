{
 "cells": [
  {
   "cell_type": "code",
   "execution_count": 1,
   "id": "c6cde1c8",
   "metadata": {},
   "outputs": [],
   "source": [
    "import glob, os, sys, time, carla, math, random, queue, cv2\n",
    "import numpy as np\n",
    "from pascal_voc_writer import Writer\n",
    "import carla\n",
    "from carla import VehicleLightState as vls\n",
    "\n",
    "import argparse, logging\n",
    "from numpy import random"
   ]
  },
  {
   "cell_type": "code",
   "execution_count": 2,
   "id": "fb71d6d6",
   "metadata": {},
   "outputs": [],
   "source": [
    "def get_actor_blueprints(world, filter, generation):\n",
    "    bps = world.get_blueprint_library().filter(filter)\n",
    "\n",
    "    if generation.lower() == \"all\":\n",
    "        return bps\n",
    "\n",
    "    # If the filter returns only one bp, we assume that this one needed\n",
    "    # and therefore, we ignore the generation\n",
    "    if len(bps) == 1:\n",
    "        return bps\n",
    "\n",
    "    try:\n",
    "        int_generation = int(generation)\n",
    "        # Check if generation is in available generations\n",
    "        if int_generation in [1, 2]:\n",
    "            bps = [x for x in bps if int(x.get_attribute('generation')) == int_generation]\n",
    "            return bps\n",
    "        else:\n",
    "            print(\"   Warning! Actor Generation is not valid. No actor will be spawned.\")\n",
    "            return []\n",
    "    except:\n",
    "        print(\"   Warning! Actor Generation is not valid. No actor will be spawned.\")\n",
    "        return []"
   ]
  },
  {
   "cell_type": "code",
   "execution_count": 3,
   "id": "241aa727",
   "metadata": {},
   "outputs": [],
   "source": [
    "#host='127.0.0.1'\n",
    "port=2000\n",
    "number_of_walkers = 1000\n",
    "filterw='walker.pedestrian.*'\n",
    "generationw='all'\n",
    "seedw=0\n",
    "client = carla.Client('localhost', port)\n",
    "#client.set_timeout(20.0)\n",
    "\n",
    "world = client.get_world()"
   ]
  },
  {
   "cell_type": "code",
   "execution_count": 37,
   "id": "b47136c0",
   "metadata": {},
   "outputs": [],
   "source": [
    "# -------------\n",
    "# remove buildings\n",
    "# -------------\n",
    "env_objs = world.get_environment_objects(carla.CityObjectLabel.Buildings)\n",
    "\n",
    "# Access individual building IDs and save in a set\n",
    "\n",
    "objects_to_toggle = {i.id for i in env_objs}\n",
    "# Toggle buildings off\n",
    "world.enable_environment_objects(objects_to_toggle, False)\n"
   ]
  },
  {
   "cell_type": "code",
   "execution_count": 38,
   "id": "415b3dd1",
   "metadata": {},
   "outputs": [],
   "source": [
    "settings = world.get_settings()\n",
    "settings.synchronous_mode = False # Enables synchronous mode\n",
    "settings.fixed_delta_seconds = 0.1\n",
    "world.apply_settings(settings)\n",
    "\n",
    "\n",
    "blueprintsWalkers = get_actor_blueprints(world, filterw, generationw)\n",
    "\n",
    "\n",
    "# @todo cannot import these directly.\n",
    "SpawnActor = carla.command.SpawnActor\n",
    "DestroyActor = carla.command.DestroyActor"
   ]
  },
  {
   "cell_type": "code",
   "execution_count": 39,
   "id": "e4a9705d",
   "metadata": {},
   "outputs": [],
   "source": [
    "\n",
    "def build_projection_matrix(w, h, fov):\n",
    "    focal = w / (2.0 * np.tan(fov * np.pi / 360.0))\n",
    "    K = np.identity(3)\n",
    "    K[0, 0] = K[1, 1] = focal\n",
    "    K[0, 2] = w / 2.0\n",
    "    K[1, 2] = h / 2.0\n",
    "    return K"
   ]
  },
  {
   "cell_type": "code",
   "execution_count": 68,
   "id": "966b1931",
   "metadata": {},
   "outputs": [],
   "source": [
    "spectator = world.get_spectator()\n",
    "transform = spectator.get_transform()\n",
    "\n",
    "blueprint = world.get_blueprint_library().find('sensor.camera.rgb')\n",
    "\n",
    "# Modify the attributes of the blueprint to set image resolution and field of view.\n",
    "blueprint.set_attribute('image_size_x', '1920')\n",
    "blueprint.set_attribute('image_size_y', '1080')\n",
    "# Get the world to camera matrix\n",
    "sensor = world.spawn_actor(blueprint, transform)\n",
    "world_2_camera = np.array(sensor.get_transform().get_inverse_matrix())\n",
    "\n",
    "# Get the attributes from the camera\n",
    "image_w = blueprint.get_attribute(\"image_size_x\").as_int()\n",
    "image_h = blueprint.get_attribute(\"image_size_y\").as_int()\n",
    "fov = blueprint.get_attribute(\"fov\").as_float()\n",
    "\n",
    "# Calculate the camera projection matrix to project from 3D -> 2D\n",
    "K = build_projection_matrix(image_w, image_h, fov)  "
   ]
  },
  {
   "cell_type": "code",
   "execution_count": 69,
   "id": "22c47bd0",
   "metadata": {},
   "outputs": [
    {
     "name": "stdout",
     "output_type": "stream",
     "text": [
      "Transform(Location(x=19.035641, y=-187.050385, z=44.470963), Rotation(pitch=-65.769958, yaw=93.659790, roll=0.000054))\n"
     ]
    }
   ],
   "source": [
    "K_inverse = np.linalg.inv(K)\n",
    "c2w = sensor.get_transform().get_matrix()\n",
    "print(sensor.get_transform())"
   ]
  },
  {
   "cell_type": "code",
   "execution_count": 75,
   "id": "e62575aa",
   "metadata": {},
   "outputs": [
    {
     "name": "stdout",
     "output_type": "stream",
     "text": [
      "[-183.0522709   -59.67047046    0.42999472]\n",
      "[  71.96963558 -133.41168319  176.70160887    1.        ]\n"
     ]
    }
   ],
   "source": [
    "def get_camera_world_view(view,K_inverse, c2w):\n",
    "    v = np.append(view, [1])\n",
    "    to_camera = np.matmul(K_inverse, v)\n",
    "    to_camera = [to_camera[1], -to_camera[2], to_camera[0]]- world_2_camera[:3,3]\n",
    "    to_world = np.matmul(c2w[:3,:3], to_camera)\n",
    "    print(to_world)\n",
    "#     v = v *100\n",
    "#     to_camera = np.append(np.matmul(K_inverse, v),[1])\n",
    "#     to_world = np.matmul(c2w, to_camera)\n",
    "    print(to_world)\n",
    "    return to_world\n",
    "p = get_camera_world_view(np.array([0.,0.]), K_inverse, np.array(c2w))\n",
    "# blueprintsWalkers = get_actor_blueprints(world, filterw, generationw)\n",
    "# walker_bp = random.choice(blueprintsWalkers)\n",
    "# ped = world.spawn_actor(walker_bp, carla.Transform(carla.Location(x=p[0],y=p[1],z=1.)))"
   ]
  },
  {
   "cell_type": "code",
   "execution_count": 76,
   "id": "a379b33e",
   "metadata": {},
   "outputs": [
    {
     "name": "stdout",
     "output_type": "stream",
     "text": [
      "[ 1.9200e+04 -1.7898e+05  1.0000e+00]\n"
     ]
    }
   ],
   "source": [
    "w = np.array([19., -187,1,1])\n",
    "to_camera = np.matmul(world_2_camera, w)\n",
    "to_pixel = np.matmul(K,to_camera[:3])\n",
    "print(to_pixel)"
   ]
  },
  {
   "cell_type": "code",
   "execution_count": 64,
   "id": "29fe75c2",
   "metadata": {},
   "outputs": [
    {
     "name": "stdout",
     "output_type": "stream",
     "text": [
      "Destroyed all the sensors:  1\n",
      "Destroyed all the controllers:  0\n",
      "Destroyed all the pedestrians:  2\n",
      "[<libcarla.command.DestroyActor object at 0x000001BB4AB97AB0>, <libcarla.command.DestroyActor object at 0x000001BB626858F0>, <libcarla.command.DestroyActor object at 0x000001BB62531630>]\n"
     ]
    }
   ],
   "source": [
    "# Set up the simulator in synchronous mode\n",
    "\n",
    "sensors = world.get_actors().filter('sensor.*')\n",
    "spectators = world.get_actors().filter('spectator')\n",
    "pedestrians = world.get_actors().filter('walker.*')\n",
    "traffics = world.get_actors().filter('traffic.*')\n",
    "batch = []\n",
    "\n",
    "for i in range(len(sensors)):\n",
    "    #print(sensors[i].type_id)\n",
    "#     sensors[i].destroy()\n",
    "    batch.append(DestroyActor(sensors[i]))\n",
    "print(\"Destroyed all the sensors: \",len(sensors))\n",
    "\n",
    "\n",
    "for i in range(len(controllers)):\n",
    "    controllers[i].stop()\n",
    "    batch.append(DestroyActor(controllers[i]))\n",
    "print(\"Destroyed all the controllers: \", len(controllers))\n",
    "\n",
    "\n",
    "for i in range(len(pedestrians)):\n",
    "    batch.append(DestroyActor(pedestrians[i]))\n",
    "\n",
    "    \n",
    "print(\"Destroyed all the pedestrians: \", len(pedestrians))\n",
    "results = client.apply_batch_sync(batch, False)\n",
    "print(batch)"
   ]
  },
  {
   "cell_type": "code",
   "execution_count": 44,
   "id": "ae45605f",
   "metadata": {},
   "outputs": [],
   "source": [
    "spectator.set_transform( carla.Transform(carla.Location(x=p[0],y=p[1],z=1.)))"
   ]
  },
  {
   "cell_type": "code",
   "execution_count": null,
   "id": "e534329c",
   "metadata": {},
   "outputs": [],
   "source": []
  }
 ],
 "metadata": {
  "kernelspec": {
   "display_name": "Python 3 (ipykernel)",
   "language": "python",
   "name": "python3"
  },
  "language_info": {
   "codemirror_mode": {
    "name": "ipython",
    "version": 3
   },
   "file_extension": ".py",
   "mimetype": "text/x-python",
   "name": "python",
   "nbconvert_exporter": "python",
   "pygments_lexer": "ipython3",
   "version": "3.7.15"
  }
 },
 "nbformat": 4,
 "nbformat_minor": 5
}
